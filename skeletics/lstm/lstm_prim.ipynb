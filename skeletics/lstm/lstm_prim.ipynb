{
 "cells": [
  {
   "cell_type": "code",
   "execution_count": 1,
   "metadata": {},
   "outputs": [],
   "source": [
    "import torch\n",
    "import torch.nn as nn\n",
    "import torch.optim as optim\n",
    "import numpy as np\n",
    "from tqdm import tqdm\n",
    "from torch.utils.data import Dataset, DataLoader, random_split"
   ]
  },
  {
   "cell_type": "code",
   "execution_count": 2,
   "metadata": {},
   "outputs": [
    {
     "name": "stdout",
     "output_type": "stream",
     "text": [
      "cpu\n"
     ]
    }
   ],
   "source": [
    "# setting device\n",
    "device = torch.device(\"cuda:0\" if torch.cuda.is_available() else \"cpu\")\n",
    "print(device)"
   ]
  },
  {
   "cell_type": "code",
   "execution_count": 3,
   "metadata": {},
   "outputs": [],
   "source": [
    "# dataloader\n",
    "class lstmdataset(Dataset):\n",
    "    def __init__(self):\n",
    "        # Reshaping X for the LSTM \n",
    "        data = np.load('../parsed_mimetics/gcn_train_data.npy')\n",
    "        labels = np.load('../parsed_mimetics/gcn_train_label.npy')\n",
    "        data = torch.DoubleTensor(data)\n",
    "        self.data = data.transpose(1, 2).reshape(679, 300, -1)\n",
    "        self.labels = torch.DoubleTensor(labels)\n",
    "\n",
    "    def __len__(self):\n",
    "        return len(self.labels)\n",
    "\n",
    "    def __getitem__(self, index):\n",
    "        X = self.data[index]\n",
    "        y = self.labels[index]\n",
    "        return X, y"
   ]
  },
  {
   "cell_type": "code",
   "execution_count": 4,
   "metadata": {},
   "outputs": [],
   "source": [
    "# The LSTM Model\n",
    "\n",
    "class LSTMClassifier(nn.Module):\n",
    "    def __init__(self, input_size, hidden_size, num_classes):\n",
    "        super(LSTMClassifier, self).__init__()\n",
    "        self.lstm = nn.LSTM(input_size, hidden_size, batch_first=True)\n",
    "        self.fc = nn.Linear(hidden_size, num_classes)\n",
    "\n",
    "    def forward(self, x):\n",
    "        x, _ = self.lstm(x)\n",
    "        x = self.fc(x[:, -1, :])\n",
    "        return x"
   ]
  },
  {
   "cell_type": "code",
   "execution_count": 5,
   "metadata": {},
   "outputs": [],
   "source": [
    "dataset = lstmdataset()\n",
    "train_size = int(0.8 * len(dataset))\n",
    "test_size = len(dataset) - train_size\n",
    "batch_size = 4\n",
    "train_dataset, test_dataset = random_split(dataset, [train_size, test_size])\n",
    "\n",
    "train_dataloader = DataLoader(train_dataset, batch_size=batch_size, shuffle=True)\n",
    "test_dataloader = DataLoader(test_dataset, batch_size=batch_size, shuffle=True)"
   ]
  },
  {
   "cell_type": "code",
   "execution_count": 6,
   "metadata": {},
   "outputs": [],
   "source": [
    "# Parameters\n",
    "input_size = 150\n",
    "hidden_size = 64\n",
    "num_classes = 50\n",
    "num_epochs = 50\n",
    "\n",
    "model = LSTMClassifier(input_size, hidden_size, num_classes).to(device)\n",
    "criterion = nn.CrossEntropyLoss()\n",
    "optimizer = torch.optim.Adam(model.parameters(), lr=0.001)"
   ]
  },
  {
   "cell_type": "code",
   "execution_count": 7,
   "metadata": {},
   "outputs": [
    {
     "name": "stderr",
     "output_type": "stream",
     "text": [
      "100%|██████████| 50/50 [00:40<00:00,  1.23it/s]\n"
     ]
    }
   ],
   "source": [
    "# Train the model\n",
    "\n",
    "train_acc = []\n",
    "test_acc = []\n",
    "\n",
    "for epoch in tqdm(range(num_epochs)):\n",
    "    train_loss = 0\n",
    "    num_batches = 0\n",
    "    for i, (inputs, labels) in enumerate(train_dataloader):\n",
    "        inputs = inputs.to(device)\n",
    "        labels = labels.to(device)\n",
    "        optimizer.zero_grad()\n",
    "        outputs = model(inputs.float())\n",
    "        loss = criterion(outputs, labels.long())\n",
    "        loss.backward()\n",
    "        optimizer.step()\n",
    "        train_loss += loss.item()\n",
    "        num_batches += 1\n",
    "    train_loss /= num_batches\n",
    "\n",
    "    # Evaluate on test set\n",
    "    model.eval()\n",
    "    test_accuracy = 0\n",
    "    num_samples = 0\n",
    "    with torch.no_grad():\n",
    "        for i, (inputs, labels) in enumerate(test_dataloader):\n",
    "            inputs = inputs.to(device)\n",
    "            labels = labels.to(device)\n",
    "            outputs = model(inputs.float())\n",
    "            _, predicted = torch.max(outputs.data, 1)\n",
    "            num_samples += labels.size(0)\n",
    "            test_accuracy += (predicted == labels).sum().float().item()\n",
    "        test_accuracy /= num_samples\n",
    "    \n",
    "    train_acc.append(train_loss)\n",
    "    test_acc.append(test_accuracy)"
   ]
  },
  {
   "cell_type": "code",
   "execution_count": 8,
   "metadata": {},
   "outputs": [
    {
     "name": "stdout",
     "output_type": "stream",
     "text": [
      "[3.9121187101392185, 3.8463788891539856, 3.80570790346931, 3.773210455389584, 3.75249044509495, 3.742672688820783, 3.7250477373600006, 3.7151656185879425, 3.705537329701816, 3.6902522146701813, 3.673467958674711, 3.6602681699921105, 3.6546169151278103, 3.6552964939790615, 3.6702098232858322, 3.6489857926088223, 3.6466777587638184, 3.6514411200495327, 3.6367715421844933, 3.6149955058799073, 3.6051219701766968, 3.5953789037816666, 3.5970523532699135, 3.603326271562015, 3.585514221121283, 3.5692016499883987, 3.589064163320205, 3.582719922065735, 3.570029143024893, 3.5610341718968224, 3.5567642976255978, 3.5732632875442505, 3.553727446233525, 3.5516606201143825, 3.5576677629176308, 3.5471617895014145, 3.527339765254189, 3.517997268368216, 3.5135119636269176, 3.5137204808347366, 3.5198181122541428, 3.5173570820513893, 3.5485446049886593, 3.5266787585090187, 3.513462048243074, 3.5036321483990727, 3.4939570681137195, 3.4991484468474106, 3.4916244087850346, 3.4824221546159073]\n",
      "[0.0, 0.029411764705882353, 0.029411764705882353, 0.029411764705882353, 0.029411764705882353, 0.029411764705882353, 0.029411764705882353, 0.029411764705882353, 0.029411764705882353, 0.029411764705882353, 0.029411764705882353, 0.029411764705882353, 0.029411764705882353, 0.029411764705882353, 0.029411764705882353, 0.029411764705882353, 0.029411764705882353, 0.029411764705882353, 0.029411764705882353, 0.029411764705882353, 0.029411764705882353, 0.029411764705882353, 0.03676470588235294, 0.029411764705882353, 0.029411764705882353, 0.029411764705882353, 0.029411764705882353, 0.03676470588235294, 0.029411764705882353, 0.029411764705882353, 0.03676470588235294, 0.03676470588235294, 0.04411764705882353, 0.04411764705882353, 0.029411764705882353, 0.04411764705882353, 0.03676470588235294, 0.029411764705882353, 0.03676470588235294, 0.03676470588235294, 0.029411764705882353, 0.029411764705882353, 0.029411764705882353, 0.029411764705882353, 0.03676470588235294, 0.03676470588235294, 0.029411764705882353, 0.029411764705882353, 0.029411764705882353, 0.029411764705882353]\n"
     ]
    }
   ],
   "source": [
    "print(train_acc)\n",
    "print(test_acc)"
   ]
  }
 ],
 "metadata": {
  "kernelspec": {
   "display_name": "nlp",
   "language": "python",
   "name": "python3"
  },
  "language_info": {
   "codemirror_mode": {
    "name": "ipython",
    "version": 3
   },
   "file_extension": ".py",
   "mimetype": "text/x-python",
   "name": "python",
   "nbconvert_exporter": "python",
   "pygments_lexer": "ipython3",
   "version": "3.10.9"
  },
  "orig_nbformat": 4
 },
 "nbformat": 4,
 "nbformat_minor": 2
}
