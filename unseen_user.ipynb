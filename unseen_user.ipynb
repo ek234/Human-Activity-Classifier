{
 "cells": [
  {
   "cell_type": "code",
   "execution_count": 1,
   "metadata": {},
   "outputs": [],
   "source": [
    "import numpy as np\n",
    "import pandas as pd\n",
    "import matplotlib.pyplot as plt\n",
    "from tqdm.notebook import tqdm\n",
    "from sklearn.model_selection import train_test_split\n",
    "from scipy import interpolate"
   ]
  },
  {
   "attachments": {},
   "cell_type": "markdown",
   "metadata": {},
   "source": [
    "# Data Processing"
   ]
  },
  {
   "cell_type": "code",
   "execution_count": 2,
   "metadata": {},
   "outputs": [],
   "source": [
    "columns = [\"timestamp\", \"activity\", \"heartrate\", ]\n",
    "columns += [f\"hand-{i}\" for i in range(1,18)]\n",
    "columns += [f\"chest-{i}\" for i in range(1,18)]\n",
    "columns += [f\"ankle-{i}\" for i in range(1,18)]"
   ]
  },
  {
   "cell_type": "code",
   "execution_count": 3,
   "metadata": {},
   "outputs": [
    {
     "name": "stdout",
     "output_type": "stream",
     "text": [
      "[ 0  1  2  3  4  5  6  7 12 13 16 17 24]\n",
      "[ 0  1  2  3  4 12 13 16 17]\n",
      "[ 0  1  2  3  4  5  6  7 12 13 16 17]\n",
      "[ 0  1  2  3  4  5  6  7 12 13 16 17 24]\n",
      "[ 0  1  2  3  4  5  6  7 12 13 16 17 24]\n",
      "[ 0  1  2  3  4  5  6  7 12 13 16 17]\n",
      "[ 0  1  2  3  4  5  6  7 12 13 16 17 24]\n",
      "[ 0 24]\n",
      "Data shape: (2496108, 54)\n"
     ]
    }
   ],
   "source": [
    "dataframes = []\n",
    "for subject in range(102, 110):\n",
    "    df = pd.read_table(f'./PAMAP2_Dataset/Protocol/subject{subject}.dat', sep='\\s+')\n",
    "    df.columns = columns\n",
    "    print(np.unique(df['activity'].values))\n",
    "    dataframes.append(df)\n",
    "data = pd.concat(dataframes, ignore_index=True)\n",
    "print(\"Data shape:\", data.shape)"
   ]
  },
  {
   "cell_type": "code",
   "execution_count": 4,
   "metadata": {},
   "outputs": [
    {
     "name": "stdout",
     "output_type": "stream",
     "text": [
      "[ 0  1  2  3  4  5  6  7 12 13 16 17 24]\n"
     ]
    }
   ],
   "source": [
    "df_test = pd.read_table(f'./PAMAP2_Dataset/Protocol/subject101.dat', sep='\\s+')\n",
    "df_test.columns = columns\n",
    "print(np.unique(df_test['activity'].values))"
   ]
  },
  {
   "cell_type": "code",
   "execution_count": 5,
   "metadata": {},
   "outputs": [
    {
     "data": {
      "text/html": [
       "<div>\n",
       "<style scoped>\n",
       "    .dataframe tbody tr th:only-of-type {\n",
       "        vertical-align: middle;\n",
       "    }\n",
       "\n",
       "    .dataframe tbody tr th {\n",
       "        vertical-align: top;\n",
       "    }\n",
       "\n",
       "    .dataframe thead th {\n",
       "        text-align: right;\n",
       "    }\n",
       "</style>\n",
       "<table border=\"1\" class=\"dataframe\">\n",
       "  <thead>\n",
       "    <tr style=\"text-align: right;\">\n",
       "      <th></th>\n",
       "      <th>timestamp</th>\n",
       "      <th>activity</th>\n",
       "      <th>heartrate</th>\n",
       "      <th>hand-1</th>\n",
       "      <th>hand-2</th>\n",
       "      <th>hand-3</th>\n",
       "      <th>hand-4</th>\n",
       "      <th>hand-5</th>\n",
       "      <th>hand-6</th>\n",
       "      <th>hand-7</th>\n",
       "      <th>...</th>\n",
       "      <th>ankle-8</th>\n",
       "      <th>ankle-9</th>\n",
       "      <th>ankle-10</th>\n",
       "      <th>ankle-11</th>\n",
       "      <th>ankle-12</th>\n",
       "      <th>ankle-13</th>\n",
       "      <th>ankle-14</th>\n",
       "      <th>ankle-15</th>\n",
       "      <th>ankle-16</th>\n",
       "      <th>ankle-17</th>\n",
       "    </tr>\n",
       "  </thead>\n",
       "  <tbody>\n",
       "    <tr>\n",
       "      <th>0</th>\n",
       "      <td>5.65</td>\n",
       "      <td>0</td>\n",
       "      <td>NaN</td>\n",
       "      <td>33.0</td>\n",
       "      <td>2.86086</td>\n",
       "      <td>7.43814</td>\n",
       "      <td>-7.21626</td>\n",
       "      <td>2.84248</td>\n",
       "      <td>7.63164</td>\n",
       "      <td>-6.85140</td>\n",
       "      <td>...</td>\n",
       "      <td>0.012804</td>\n",
       "      <td>-0.036384</td>\n",
       "      <td>-0.014845</td>\n",
       "      <td>-47.7624</td>\n",
       "      <td>-2.81438</td>\n",
       "      <td>60.3407</td>\n",
       "      <td>0.014025</td>\n",
       "      <td>-0.748410</td>\n",
       "      <td>0.079043</td>\n",
       "      <td>-0.658360</td>\n",
       "    </tr>\n",
       "    <tr>\n",
       "      <th>1</th>\n",
       "      <td>5.66</td>\n",
       "      <td>0</td>\n",
       "      <td>100.0</td>\n",
       "      <td>33.0</td>\n",
       "      <td>2.80997</td>\n",
       "      <td>7.09430</td>\n",
       "      <td>-7.52376</td>\n",
       "      <td>2.79373</td>\n",
       "      <td>7.43545</td>\n",
       "      <td>-7.07744</td>\n",
       "      <td>...</td>\n",
       "      <td>-0.001695</td>\n",
       "      <td>-0.034529</td>\n",
       "      <td>-0.040074</td>\n",
       "      <td>-47.5393</td>\n",
       "      <td>-2.38909</td>\n",
       "      <td>60.9623</td>\n",
       "      <td>0.012714</td>\n",
       "      <td>-0.749508</td>\n",
       "      <td>0.075286</td>\n",
       "      <td>-0.657577</td>\n",
       "    </tr>\n",
       "    <tr>\n",
       "      <th>2</th>\n",
       "      <td>5.67</td>\n",
       "      <td>0</td>\n",
       "      <td>NaN</td>\n",
       "      <td>33.0</td>\n",
       "      <td>2.77138</td>\n",
       "      <td>6.98077</td>\n",
       "      <td>-7.52396</td>\n",
       "      <td>2.80627</td>\n",
       "      <td>7.29929</td>\n",
       "      <td>-7.24326</td>\n",
       "      <td>...</td>\n",
       "      <td>0.055437</td>\n",
       "      <td>-0.011560</td>\n",
       "      <td>0.015434</td>\n",
       "      <td>-47.4246</td>\n",
       "      <td>-2.72082</td>\n",
       "      <td>60.7103</td>\n",
       "      <td>0.012639</td>\n",
       "      <td>-0.749201</td>\n",
       "      <td>0.076030</td>\n",
       "      <td>-0.657843</td>\n",
       "    </tr>\n",
       "    <tr>\n",
       "      <th>3</th>\n",
       "      <td>5.68</td>\n",
       "      <td>0</td>\n",
       "      <td>NaN</td>\n",
       "      <td>33.0</td>\n",
       "      <td>2.76710</td>\n",
       "      <td>7.13119</td>\n",
       "      <td>-7.67848</td>\n",
       "      <td>2.78766</td>\n",
       "      <td>7.11797</td>\n",
       "      <td>-7.48445</td>\n",
       "      <td>...</td>\n",
       "      <td>0.017184</td>\n",
       "      <td>-0.034663</td>\n",
       "      <td>0.007239</td>\n",
       "      <td>-47.5412</td>\n",
       "      <td>-2.60153</td>\n",
       "      <td>60.3412</td>\n",
       "      <td>0.012571</td>\n",
       "      <td>-0.749291</td>\n",
       "      <td>0.076346</td>\n",
       "      <td>-0.657705</td>\n",
       "    </tr>\n",
       "    <tr>\n",
       "      <th>4</th>\n",
       "      <td>5.69</td>\n",
       "      <td>0</td>\n",
       "      <td>NaN</td>\n",
       "      <td>33.0</td>\n",
       "      <td>2.60926</td>\n",
       "      <td>7.13068</td>\n",
       "      <td>-7.87328</td>\n",
       "      <td>2.81630</td>\n",
       "      <td>7.17794</td>\n",
       "      <td>-7.72623</td>\n",
       "      <td>...</td>\n",
       "      <td>-0.015741</td>\n",
       "      <td>-0.053576</td>\n",
       "      <td>0.026668</td>\n",
       "      <td>-47.5325</td>\n",
       "      <td>-3.15502</td>\n",
       "      <td>60.4590</td>\n",
       "      <td>0.013169</td>\n",
       "      <td>-0.749205</td>\n",
       "      <td>0.077813</td>\n",
       "      <td>-0.657620</td>\n",
       "    </tr>\n",
       "  </tbody>\n",
       "</table>\n",
       "<p>5 rows × 54 columns</p>\n",
       "</div>"
      ],
      "text/plain": [
       "   timestamp  activity  heartrate  hand-1   hand-2   hand-3   hand-4   hand-5  \\\n",
       "0       5.65         0        NaN    33.0  2.86086  7.43814 -7.21626  2.84248   \n",
       "1       5.66         0      100.0    33.0  2.80997  7.09430 -7.52376  2.79373   \n",
       "2       5.67         0        NaN    33.0  2.77138  6.98077 -7.52396  2.80627   \n",
       "3       5.68         0        NaN    33.0  2.76710  7.13119 -7.67848  2.78766   \n",
       "4       5.69         0        NaN    33.0  2.60926  7.13068 -7.87328  2.81630   \n",
       "\n",
       "    hand-6   hand-7  ...   ankle-8   ankle-9  ankle-10  ankle-11  ankle-12  \\\n",
       "0  7.63164 -6.85140  ...  0.012804 -0.036384 -0.014845  -47.7624  -2.81438   \n",
       "1  7.43545 -7.07744  ... -0.001695 -0.034529 -0.040074  -47.5393  -2.38909   \n",
       "2  7.29929 -7.24326  ...  0.055437 -0.011560  0.015434  -47.4246  -2.72082   \n",
       "3  7.11797 -7.48445  ...  0.017184 -0.034663  0.007239  -47.5412  -2.60153   \n",
       "4  7.17794 -7.72623  ... -0.015741 -0.053576  0.026668  -47.5325  -3.15502   \n",
       "\n",
       "   ankle-13  ankle-14  ankle-15  ankle-16  ankle-17  \n",
       "0   60.3407  0.014025 -0.748410  0.079043 -0.658360  \n",
       "1   60.9623  0.012714 -0.749508  0.075286 -0.657577  \n",
       "2   60.7103  0.012639 -0.749201  0.076030 -0.657843  \n",
       "3   60.3412  0.012571 -0.749291  0.076346 -0.657705  \n",
       "4   60.4590  0.013169 -0.749205  0.077813 -0.657620  \n",
       "\n",
       "[5 rows x 54 columns]"
      ]
     },
     "execution_count": 5,
     "metadata": {},
     "output_type": "execute_result"
    }
   ],
   "source": [
    "data.head()"
   ]
  },
  {
   "attachments": {},
   "cell_type": "markdown",
   "metadata": {},
   "source": [
    "Here is the breakdown of each of the 17 parameters of the IMU data (hand, chest and ankle)\n",
    "+ 1 temperature (°C)\n",
    "+ 2-4 3D-acceleration data (ms-2),  scale: ±16g, resolution: 13-bit\n",
    "+ 5-7 3D-acceleration data (ms-2),  scale: ±6g, resolution: 13-bit*\n",
    "+ 8-10 3D-gyroscope data (rad/s)\n",
    "+ 11-13 3D-magnetometer data (μT)\n",
    "+ 14-17 orientation (invalid in this data collection)\n",
    "\n",
    "Out of these, temperature is unnecessary. The second accelerometer (5-7) data is imprecise, we use just the first one.\n",
    "Orientation (14-17) is invalid for this data. We remove this from our dataset. Finally, order is all that matters, timestep value is irrelevant. We drop that row too."
   ]
  },
  {
   "cell_type": "code",
   "execution_count": 6,
   "metadata": {},
   "outputs": [
    {
     "data": {
      "text/plain": [
       "Index(['timestamp', 'activity', 'heartrate', 'hand-1', 'hand-2', 'hand-3',\n",
       "       'hand-4', 'hand-5', 'hand-6', 'hand-7', 'hand-8', 'hand-9', 'hand-10',\n",
       "       'hand-11', 'hand-12', 'hand-13', 'hand-14', 'hand-15', 'hand-16',\n",
       "       'hand-17', 'chest-1', 'chest-2', 'chest-3', 'chest-4', 'chest-5',\n",
       "       'chest-6', 'chest-7', 'chest-8', 'chest-9', 'chest-10', 'chest-11',\n",
       "       'chest-12', 'chest-13', 'chest-14', 'chest-15', 'chest-16', 'chest-17',\n",
       "       'ankle-1', 'ankle-2', 'ankle-3', 'ankle-4', 'ankle-5', 'ankle-6',\n",
       "       'ankle-7', 'ankle-8', 'ankle-9', 'ankle-10', 'ankle-11', 'ankle-12',\n",
       "       'ankle-13', 'ankle-14', 'ankle-15', 'ankle-16', 'ankle-17'],\n",
       "      dtype='object')"
      ]
     },
     "execution_count": 6,
     "metadata": {},
     "output_type": "execute_result"
    }
   ],
   "source": [
    "data.columns"
   ]
  },
  {
   "cell_type": "code",
   "execution_count": 7,
   "metadata": {},
   "outputs": [],
   "source": [
    "data.drop(columns=['timestamp']+[ f\"{place}-{number}\" for place in [\"hand\", \"chest\", \"ankle\"] for number in [1, 5, 6, 7, 14, 15, 16, 17]], inplace=True)"
   ]
  },
  {
   "cell_type": "code",
   "execution_count": 8,
   "metadata": {},
   "outputs": [],
   "source": [
    "df_test.drop(columns=['timestamp']+[ f\"{place}-{number}\" for place in [\"hand\", \"chest\", \"ankle\"] for number in [1, 5, 6, 7, 14, 15, 16, 17]], inplace=True)"
   ]
  },
  {
   "cell_type": "code",
   "execution_count": 9,
   "metadata": {},
   "outputs": [
    {
     "data": {
      "text/html": [
       "<div>\n",
       "<style scoped>\n",
       "    .dataframe tbody tr th:only-of-type {\n",
       "        vertical-align: middle;\n",
       "    }\n",
       "\n",
       "    .dataframe tbody tr th {\n",
       "        vertical-align: top;\n",
       "    }\n",
       "\n",
       "    .dataframe thead th {\n",
       "        text-align: right;\n",
       "    }\n",
       "</style>\n",
       "<table border=\"1\" class=\"dataframe\">\n",
       "  <thead>\n",
       "    <tr style=\"text-align: right;\">\n",
       "      <th></th>\n",
       "      <th>activity</th>\n",
       "      <th>heartrate</th>\n",
       "      <th>hand-2</th>\n",
       "      <th>hand-3</th>\n",
       "      <th>hand-4</th>\n",
       "      <th>hand-8</th>\n",
       "      <th>hand-9</th>\n",
       "      <th>hand-10</th>\n",
       "      <th>hand-11</th>\n",
       "      <th>hand-12</th>\n",
       "      <th>...</th>\n",
       "      <th>chest-13</th>\n",
       "      <th>ankle-2</th>\n",
       "      <th>ankle-3</th>\n",
       "      <th>ankle-4</th>\n",
       "      <th>ankle-8</th>\n",
       "      <th>ankle-9</th>\n",
       "      <th>ankle-10</th>\n",
       "      <th>ankle-11</th>\n",
       "      <th>ankle-12</th>\n",
       "      <th>ankle-13</th>\n",
       "    </tr>\n",
       "  </thead>\n",
       "  <tbody>\n",
       "    <tr>\n",
       "      <th>0</th>\n",
       "      <td>0</td>\n",
       "      <td>NaN</td>\n",
       "      <td>2.86086</td>\n",
       "      <td>7.43814</td>\n",
       "      <td>-7.21626</td>\n",
       "      <td>1.08269</td>\n",
       "      <td>-0.393965</td>\n",
       "      <td>1.60935</td>\n",
       "      <td>-11.6575</td>\n",
       "      <td>-3.186480</td>\n",
       "      <td>...</td>\n",
       "      <td>8.30648</td>\n",
       "      <td>9.83968</td>\n",
       "      <td>-0.807666</td>\n",
       "      <td>-1.80115</td>\n",
       "      <td>0.012804</td>\n",
       "      <td>-0.036384</td>\n",
       "      <td>-0.014845</td>\n",
       "      <td>-47.7624</td>\n",
       "      <td>-2.81438</td>\n",
       "      <td>60.3407</td>\n",
       "    </tr>\n",
       "    <tr>\n",
       "      <th>1</th>\n",
       "      <td>0</td>\n",
       "      <td>100.0</td>\n",
       "      <td>2.80997</td>\n",
       "      <td>7.09430</td>\n",
       "      <td>-7.52376</td>\n",
       "      <td>1.14829</td>\n",
       "      <td>-0.521087</td>\n",
       "      <td>1.80748</td>\n",
       "      <td>-11.7615</td>\n",
       "      <td>-2.530610</td>\n",
       "      <td>...</td>\n",
       "      <td>8.68295</td>\n",
       "      <td>9.69127</td>\n",
       "      <td>-0.769071</td>\n",
       "      <td>-1.76432</td>\n",
       "      <td>-0.001695</td>\n",
       "      <td>-0.034529</td>\n",
       "      <td>-0.040074</td>\n",
       "      <td>-47.5393</td>\n",
       "      <td>-2.38909</td>\n",
       "      <td>60.9623</td>\n",
       "    </tr>\n",
       "    <tr>\n",
       "      <th>2</th>\n",
       "      <td>0</td>\n",
       "      <td>NaN</td>\n",
       "      <td>2.77138</td>\n",
       "      <td>6.98077</td>\n",
       "      <td>-7.52396</td>\n",
       "      <td>1.24888</td>\n",
       "      <td>-0.511985</td>\n",
       "      <td>1.95031</td>\n",
       "      <td>-11.2109</td>\n",
       "      <td>-2.121300</td>\n",
       "      <td>...</td>\n",
       "      <td>8.18545</td>\n",
       "      <td>9.80276</td>\n",
       "      <td>-0.921656</td>\n",
       "      <td>-1.76223</td>\n",
       "      <td>0.055437</td>\n",
       "      <td>-0.011560</td>\n",
       "      <td>0.015434</td>\n",
       "      <td>-47.4246</td>\n",
       "      <td>-2.72082</td>\n",
       "      <td>60.7103</td>\n",
       "    </tr>\n",
       "    <tr>\n",
       "      <th>3</th>\n",
       "      <td>0</td>\n",
       "      <td>NaN</td>\n",
       "      <td>2.76710</td>\n",
       "      <td>7.13119</td>\n",
       "      <td>-7.67848</td>\n",
       "      <td>1.27178</td>\n",
       "      <td>-0.525704</td>\n",
       "      <td>2.01367</td>\n",
       "      <td>-10.8648</td>\n",
       "      <td>-0.621037</td>\n",
       "      <td>...</td>\n",
       "      <td>8.68756</td>\n",
       "      <td>9.68318</td>\n",
       "      <td>-0.842759</td>\n",
       "      <td>-2.03407</td>\n",
       "      <td>0.017184</td>\n",
       "      <td>-0.034663</td>\n",
       "      <td>0.007239</td>\n",
       "      <td>-47.5412</td>\n",
       "      <td>-2.60153</td>\n",
       "      <td>60.3412</td>\n",
       "    </tr>\n",
       "    <tr>\n",
       "      <th>4</th>\n",
       "      <td>0</td>\n",
       "      <td>NaN</td>\n",
       "      <td>2.60926</td>\n",
       "      <td>7.13068</td>\n",
       "      <td>-7.87328</td>\n",
       "      <td>1.30517</td>\n",
       "      <td>-0.563694</td>\n",
       "      <td>2.06970</td>\n",
       "      <td>-10.9776</td>\n",
       "      <td>-0.395412</td>\n",
       "      <td>...</td>\n",
       "      <td>8.43012</td>\n",
       "      <td>9.80315</td>\n",
       "      <td>-0.845719</td>\n",
       "      <td>-1.76270</td>\n",
       "      <td>-0.015741</td>\n",
       "      <td>-0.053576</td>\n",
       "      <td>0.026668</td>\n",
       "      <td>-47.5325</td>\n",
       "      <td>-3.15502</td>\n",
       "      <td>60.4590</td>\n",
       "    </tr>\n",
       "  </tbody>\n",
       "</table>\n",
       "<p>5 rows × 29 columns</p>\n",
       "</div>"
      ],
      "text/plain": [
       "   activity  heartrate   hand-2   hand-3   hand-4   hand-8    hand-9  hand-10  \\\n",
       "0         0        NaN  2.86086  7.43814 -7.21626  1.08269 -0.393965  1.60935   \n",
       "1         0      100.0  2.80997  7.09430 -7.52376  1.14829 -0.521087  1.80748   \n",
       "2         0        NaN  2.77138  6.98077 -7.52396  1.24888 -0.511985  1.95031   \n",
       "3         0        NaN  2.76710  7.13119 -7.67848  1.27178 -0.525704  2.01367   \n",
       "4         0        NaN  2.60926  7.13068 -7.87328  1.30517 -0.563694  2.06970   \n",
       "\n",
       "   hand-11   hand-12  ...  chest-13  ankle-2   ankle-3  ankle-4   ankle-8  \\\n",
       "0 -11.6575 -3.186480  ...   8.30648  9.83968 -0.807666 -1.80115  0.012804   \n",
       "1 -11.7615 -2.530610  ...   8.68295  9.69127 -0.769071 -1.76432 -0.001695   \n",
       "2 -11.2109 -2.121300  ...   8.18545  9.80276 -0.921656 -1.76223  0.055437   \n",
       "3 -10.8648 -0.621037  ...   8.68756  9.68318 -0.842759 -2.03407  0.017184   \n",
       "4 -10.9776 -0.395412  ...   8.43012  9.80315 -0.845719 -1.76270 -0.015741   \n",
       "\n",
       "    ankle-9  ankle-10  ankle-11  ankle-12  ankle-13  \n",
       "0 -0.036384 -0.014845  -47.7624  -2.81438   60.3407  \n",
       "1 -0.034529 -0.040074  -47.5393  -2.38909   60.9623  \n",
       "2 -0.011560  0.015434  -47.4246  -2.72082   60.7103  \n",
       "3 -0.034663  0.007239  -47.5412  -2.60153   60.3412  \n",
       "4 -0.053576  0.026668  -47.5325  -3.15502   60.4590  \n",
       "\n",
       "[5 rows x 29 columns]"
      ]
     },
     "execution_count": 9,
     "metadata": {},
     "output_type": "execute_result"
    }
   ],
   "source": [
    "data.head()"
   ]
  },
  {
   "cell_type": "code",
   "execution_count": 10,
   "metadata": {},
   "outputs": [],
   "source": [
    "def interpolate_linear(data_pd):\n",
    "    # Sensor polling rates are not the same. Interpolating NaN values.\n",
    "    for key, value in data_pd.items():\n",
    "        if value.isna().any():\n",
    "            nan_values = value.isna()\n",
    "            numeric_values = ~nan_values\n",
    "            data_pd.loc[nan_values, key] = np.interp(np.flatnonzero(nan_values), np.flatnonzero(numeric_values), value[numeric_values])\n",
    "\n",
    "def remove_heart_noise(data_np):\n",
    "    data_heartfixed = data_np.copy()\n",
    "    hrate = data_heartfixed[:, 2]\n",
    "    nan_indices = np.argwhere(~np.isnan(hrate)).flatten()\n",
    "    nan_indices.sort()\n",
    "    for idx in range(0, len(nan_indices)-1, 8):\n",
    "        vals = [ nan_indices[idx+i]for i in range(8) if idx+i < len(nan_indices) ]\n",
    "        avg = np.mean(hrate[vals])\n",
    "        hrate[vals] = np.nan\n",
    "        hrate[vals[len(vals)//2]] = avg\n",
    "    return data_heartfixed\n",
    "\n",
    "def interpolate_cubic(data_np):\n",
    "    data_clean_np = np.zeros_like(data_np)\n",
    "    data_clean_np[:, 0:2] = data_np[:, 0:2]\n",
    "    for idx, values in enumerate(data_np[:, 2:].T):\n",
    "        timestamps = data_np[:, 0]\n",
    "        timestamps_notnan = timestamps[~np.isnan(values)]\n",
    "        values_notnan = values[~np.isnan(values)]\n",
    "        values = interpolate.CubicSpline(timestamps_notnan, values_notnan)(timestamps)\n",
    "        data_clean_np[:, 2+idx] = values.T\n",
    "    return data_clean_np"
   ]
  },
  {
   "cell_type": "code",
   "execution_count": 11,
   "metadata": {},
   "outputs": [],
   "source": [
    "interpolate_linear(data)\n",
    "interpolate_linear(df_test)"
   ]
  },
  {
   "cell_type": "code",
   "execution_count": 12,
   "metadata": {},
   "outputs": [
    {
     "name": "stdout",
     "output_type": "stream",
     "text": [
      "\n",
      "X_train.shape = (2496108, 28)\n",
      "X_test.shape = (376416, 28)\n",
      "y_train.shape = (2496108,)\n",
      "y_test.shape = (376416,)\n"
     ]
    }
   ],
   "source": [
    "X_train = data.loc[:, data.columns != 'activity'].to_numpy()\n",
    "y_train = data['activity'].to_numpy()\n",
    "\n",
    "X_test = df_test.loc[:, df_test.columns != 'activity'].to_numpy()\n",
    "y_test = df_test['activity'].to_numpy()\n",
    "\n",
    "print()\n",
    "print(f\"{X_train.shape = }\", f\"{X_test.shape = }\", f\"{y_train.shape = }\", f\"{y_test.shape = }\", sep=\"\\n\")"
   ]
  },
  {
   "cell_type": "code",
   "execution_count": 13,
   "metadata": {},
   "outputs": [],
   "source": [
    "import sys\n",
    "import pickle\n",
    "import numpy as np\n",
    "from time import time\n",
    "import sklearn.metrics\n",
    "from sklearn.model_selection import train_test_split\n",
    "\n",
    "from sklearn.tree import DecisionTreeClassifier"
   ]
  },
  {
   "cell_type": "code",
   "execution_count": 14,
   "metadata": {},
   "outputs": [
    {
     "name": "stdout",
     "output_type": "stream",
     "text": [
      "Accuracy test: 0.3775264600867126\n"
     ]
    }
   ],
   "source": [
    "start_time = time()\n",
    "\n",
    "dt = DecisionTreeClassifier(max_depth=50, random_state=42)\n",
    "dt.fit(X_train, y_train)\n",
    "train_dur = time() - start_time\n",
    "\n",
    "y_pred_test = dt.predict(X_test)\n",
    "acc_test = sklearn.metrics.accuracy_score(y_test, y_pred_test)\n",
    "print(f\"Accuracy test: {acc_test}\")\n",
    "confusion_matrix_test = sklearn.metrics.confusion_matrix(y_test, y_pred_test)\n",
    "class_rep = sklearn.metrics.classification_report(y_test, y_pred_test)\n",
    "\n",
    "y_pred_train = dt.predict(X_train)\n",
    "acc_train = sklearn.metrics.accuracy_score(y_train, y_pred_train)"
   ]
  },
  {
   "cell_type": "code",
   "execution_count": 15,
   "metadata": {},
   "outputs": [],
   "source": [
    "def plot_confusion_matrix(conf_matrix, show_none = True):\n",
    "    class_names = ['none','lie','sit','stand','walk','run','cycle','nordic_walk','ascend_stairs','descend_stairs','vacuum_clean','iron','rope_jumping']\n",
    "    if not show_none:\n",
    "        conf_matrix = conf_matrix[1:,1:]\n",
    "        class_names = class_names[1:]\n",
    "    fig, ax = plt.subplots()\n",
    "    im = ax.imshow(conf_matrix, cmap=plt.cm.Blues)\n",
    "    ax.set_xticks(np.arange(len(class_names)))\n",
    "    ax.set_yticks(np.arange(len(class_names)))\n",
    "    # ax.set_xticklabels(class_names)\n",
    "    ax.set_yticklabels(class_names)\n",
    "\n",
    "    for i in range(len(class_names)):\n",
    "        for j in range(len(class_names)):\n",
    "            text = ax.text(j, i, conf_matrix[i, j],\n",
    "                        ha=\"center\", va=\"center\", color=\"white\")\n",
    "            \n",
    "    ax.set_title(\"Confusion matrix\")\n",
    "    plt.colorbar(im)\n",
    "\n",
    "    plt.show()"
   ]
  },
  {
   "cell_type": "code",
   "execution_count": 16,
   "metadata": {},
   "outputs": [
    {
     "name": "stdout",
     "output_type": "stream",
     "text": [
      "[ 0  1  2  3  4  5  6  7 12 13 16 17 24]\n"
     ]
    }
   ],
   "source": [
    "print(np.unique(y_train))"
   ]
  },
  {
   "cell_type": "code",
   "execution_count": 17,
   "metadata": {},
   "outputs": [
    {
     "data": {
      "image/png": "[encoded data removed]",
      "text/plain": [
       "<Figure size 640x480 with 2 Axes>"
      ]
     },
     "metadata": {},
     "output_type": "display_data"
    }
   ],
   "source": [
    "plot_confusion_matrix(confusion_matrix_test, show_none=False)"
   ]
  },
  {
   "cell_type": "code",
   "execution_count": null,
   "metadata": {},
   "outputs": [],
   "source": []
  }
 ],
 "metadata": {
  "kernelspec": {
   "display_name": "smai",
   "language": "python",
   "name": "python3"
  },
  "language_info": {
   "codemirror_mode": {
    "name": "ipython",
    "version": 3
   },
   "file_extension": ".py",
   "mimetype": "text/x-python",
   "name": "python",
   "nbconvert_exporter": "python",
   "pygments_lexer": "ipython3",
   "version": "3.10.11"
  },
  "orig_nbformat": 4
 },
 "nbformat": 4,
 "nbformat_minor": 2
}
