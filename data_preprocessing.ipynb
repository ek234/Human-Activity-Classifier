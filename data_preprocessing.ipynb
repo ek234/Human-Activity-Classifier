{
 "cells": [
  {
   "cell_type": "code",
   "execution_count": 1,
   "metadata": {},
   "outputs": [],
   "source": [
    "import numpy as np\n",
    "import pandas as pd\n",
    "import matplotlib.pyplot as plt"
   ]
  },
  {
   "cell_type": "code",
   "execution_count": 2,
   "metadata": {},
   "outputs": [],
   "source": [
    "columns = [\"timestamp\", \"activity\", \"heartrate\", ]\n",
    "columns += [\"hand-\" + str(i) for i in range(17)]\n",
    "columns += [\"chest-\" + str(i) for i in range(17)]\n",
    "columns += [\"ankle-\" + str(i) for i in range(17)]"
   ]
  },
  {
   "cell_type": "code",
   "execution_count": 3,
   "metadata": {},
   "outputs": [
    {
     "name": "stdout",
     "output_type": "stream",
     "text": [
      "(376416, 54)\n"
     ]
    }
   ],
   "source": [
    "# Reading data for subject 101. Subjects range from 101-109\n",
    "data = pd.read_table('./PAMAP2_Dataset/Protocol/subject101.dat', sep='\\s+')\n",
    "data.columns = columns\n",
    "\n",
    "print(data.shape)"
   ]
  },
  {
   "cell_type": "code",
   "execution_count": 4,
   "metadata": {},
   "outputs": [
    {
     "data": {
      "text/html": [
       "<div>\n",
       "<style scoped>\n",
       "    .dataframe tbody tr th:only-of-type {\n",
       "        vertical-align: middle;\n",
       "    }\n",
       "\n",
       "    .dataframe tbody tr th {\n",
       "        vertical-align: top;\n",
       "    }\n",
       "\n",
       "    .dataframe thead th {\n",
       "        text-align: right;\n",
       "    }\n",
       "</style>\n",
       "<table border=\"1\" class=\"dataframe\">\n",
       "  <thead>\n",
       "    <tr style=\"text-align: right;\">\n",
       "      <th></th>\n",
       "      <th>timestamp</th>\n",
       "      <th>activity</th>\n",
       "      <th>heartrate</th>\n",
       "      <th>hand-0</th>\n",
       "      <th>hand-1</th>\n",
       "      <th>hand-2</th>\n",
       "      <th>hand-3</th>\n",
       "      <th>hand-4</th>\n",
       "      <th>hand-5</th>\n",
       "      <th>hand-6</th>\n",
       "      <th>...</th>\n",
       "      <th>ankle-7</th>\n",
       "      <th>ankle-8</th>\n",
       "      <th>ankle-9</th>\n",
       "      <th>ankle-10</th>\n",
       "      <th>ankle-11</th>\n",
       "      <th>ankle-12</th>\n",
       "      <th>ankle-13</th>\n",
       "      <th>ankle-14</th>\n",
       "      <th>ankle-15</th>\n",
       "      <th>ankle-16</th>\n",
       "    </tr>\n",
       "  </thead>\n",
       "  <tbody>\n",
       "    <tr>\n",
       "      <th>0</th>\n",
       "      <td>8.39</td>\n",
       "      <td>0</td>\n",
       "      <td>NaN</td>\n",
       "      <td>30.0</td>\n",
       "      <td>2.18837</td>\n",
       "      <td>8.56560</td>\n",
       "      <td>3.66179</td>\n",
       "      <td>2.39494</td>\n",
       "      <td>8.55081</td>\n",
       "      <td>3.64207</td>\n",
       "      <td>...</td>\n",
       "      <td>-0.006577</td>\n",
       "      <td>-0.004638</td>\n",
       "      <td>0.000368</td>\n",
       "      <td>-59.8479</td>\n",
       "      <td>-38.8919</td>\n",
       "      <td>-58.5253</td>\n",
       "      <td>1.0</td>\n",
       "      <td>0.0</td>\n",
       "      <td>0.0</td>\n",
       "      <td>0.0</td>\n",
       "    </tr>\n",
       "    <tr>\n",
       "      <th>1</th>\n",
       "      <td>8.40</td>\n",
       "      <td>0</td>\n",
       "      <td>NaN</td>\n",
       "      <td>30.0</td>\n",
       "      <td>2.37357</td>\n",
       "      <td>8.60107</td>\n",
       "      <td>3.54898</td>\n",
       "      <td>2.30514</td>\n",
       "      <td>8.53644</td>\n",
       "      <td>3.73280</td>\n",
       "      <td>...</td>\n",
       "      <td>0.003014</td>\n",
       "      <td>0.000148</td>\n",
       "      <td>0.022495</td>\n",
       "      <td>-60.7361</td>\n",
       "      <td>-39.4138</td>\n",
       "      <td>-58.3999</td>\n",
       "      <td>1.0</td>\n",
       "      <td>0.0</td>\n",
       "      <td>0.0</td>\n",
       "      <td>0.0</td>\n",
       "    </tr>\n",
       "    <tr>\n",
       "      <th>2</th>\n",
       "      <td>8.41</td>\n",
       "      <td>0</td>\n",
       "      <td>NaN</td>\n",
       "      <td>30.0</td>\n",
       "      <td>2.07473</td>\n",
       "      <td>8.52853</td>\n",
       "      <td>3.66021</td>\n",
       "      <td>2.33528</td>\n",
       "      <td>8.53622</td>\n",
       "      <td>3.73277</td>\n",
       "      <td>...</td>\n",
       "      <td>0.003175</td>\n",
       "      <td>-0.020301</td>\n",
       "      <td>0.011275</td>\n",
       "      <td>-60.4091</td>\n",
       "      <td>-38.7635</td>\n",
       "      <td>-58.3956</td>\n",
       "      <td>1.0</td>\n",
       "      <td>0.0</td>\n",
       "      <td>0.0</td>\n",
       "      <td>0.0</td>\n",
       "    </tr>\n",
       "    <tr>\n",
       "      <th>3</th>\n",
       "      <td>8.42</td>\n",
       "      <td>0</td>\n",
       "      <td>NaN</td>\n",
       "      <td>30.0</td>\n",
       "      <td>2.22936</td>\n",
       "      <td>8.83122</td>\n",
       "      <td>3.70000</td>\n",
       "      <td>2.23055</td>\n",
       "      <td>8.59741</td>\n",
       "      <td>3.76295</td>\n",
       "      <td>...</td>\n",
       "      <td>0.012698</td>\n",
       "      <td>-0.014303</td>\n",
       "      <td>-0.002823</td>\n",
       "      <td>-61.5199</td>\n",
       "      <td>-39.3879</td>\n",
       "      <td>-58.2694</td>\n",
       "      <td>1.0</td>\n",
       "      <td>0.0</td>\n",
       "      <td>0.0</td>\n",
       "      <td>0.0</td>\n",
       "    </tr>\n",
       "    <tr>\n",
       "      <th>4</th>\n",
       "      <td>8.43</td>\n",
       "      <td>0</td>\n",
       "      <td>NaN</td>\n",
       "      <td>30.0</td>\n",
       "      <td>2.29959</td>\n",
       "      <td>8.82929</td>\n",
       "      <td>3.54710</td>\n",
       "      <td>2.26132</td>\n",
       "      <td>8.65762</td>\n",
       "      <td>3.77788</td>\n",
       "      <td>...</td>\n",
       "      <td>-0.006089</td>\n",
       "      <td>-0.016024</td>\n",
       "      <td>0.001050</td>\n",
       "      <td>-60.2954</td>\n",
       "      <td>-38.8778</td>\n",
       "      <td>-58.3977</td>\n",
       "      <td>1.0</td>\n",
       "      <td>0.0</td>\n",
       "      <td>0.0</td>\n",
       "      <td>0.0</td>\n",
       "    </tr>\n",
       "  </tbody>\n",
       "</table>\n",
       "<p>5 rows × 54 columns</p>\n",
       "</div>"
      ],
      "text/plain": [
       "   timestamp  activity  heartrate  hand-0   hand-1   hand-2   hand-3   hand-4  \\\n",
       "0       8.39         0        NaN    30.0  2.18837  8.56560  3.66179  2.39494   \n",
       "1       8.40         0        NaN    30.0  2.37357  8.60107  3.54898  2.30514   \n",
       "2       8.41         0        NaN    30.0  2.07473  8.52853  3.66021  2.33528   \n",
       "3       8.42         0        NaN    30.0  2.22936  8.83122  3.70000  2.23055   \n",
       "4       8.43         0        NaN    30.0  2.29959  8.82929  3.54710  2.26132   \n",
       "\n",
       "    hand-5   hand-6  ...   ankle-7   ankle-8   ankle-9  ankle-10  ankle-11  \\\n",
       "0  8.55081  3.64207  ... -0.006577 -0.004638  0.000368  -59.8479  -38.8919   \n",
       "1  8.53644  3.73280  ...  0.003014  0.000148  0.022495  -60.7361  -39.4138   \n",
       "2  8.53622  3.73277  ...  0.003175 -0.020301  0.011275  -60.4091  -38.7635   \n",
       "3  8.59741  3.76295  ...  0.012698 -0.014303 -0.002823  -61.5199  -39.3879   \n",
       "4  8.65762  3.77788  ... -0.006089 -0.016024  0.001050  -60.2954  -38.8778   \n",
       "\n",
       "   ankle-12  ankle-13  ankle-14  ankle-15  ankle-16  \n",
       "0  -58.5253       1.0       0.0       0.0       0.0  \n",
       "1  -58.3999       1.0       0.0       0.0       0.0  \n",
       "2  -58.3956       1.0       0.0       0.0       0.0  \n",
       "3  -58.2694       1.0       0.0       0.0       0.0  \n",
       "4  -58.3977       1.0       0.0       0.0       0.0  \n",
       "\n",
       "[5 rows x 54 columns]"
      ]
     },
     "execution_count": 4,
     "metadata": {},
     "output_type": "execute_result"
    }
   ],
   "source": [
    "data.head()"
   ]
  },
  {
   "cell_type": "code",
   "execution_count": 5,
   "metadata": {},
   "outputs": [],
   "source": [
    "# Sensor polling rates are not the same. Interpolating NaN values.\n",
    "for key, value in data.items():\n",
    "    if value.isna().any():\n",
    "        nan_values = value.isna()\n",
    "        numeric_values = ~nan_values\n",
    "        data.loc[nan_values, key] = np.interp(np.flatnonzero(nan_values), np.flatnonzero(numeric_values), value[numeric_values])\n"
   ]
  },
  {
   "cell_type": "code",
   "execution_count": 6,
   "metadata": {},
   "outputs": [
    {
     "name": "stdout",
     "output_type": "stream",
     "text": [
      "(376416, 52) (376416,)\n"
     ]
    }
   ],
   "source": [
    "X = data.iloc[:, 2:].to_numpy()\n",
    "y = data['activity'].to_numpy()\n",
    "\n",
    "print(X.shape, y.shape)"
   ]
  },
  {
   "cell_type": "code",
   "execution_count": 7,
   "metadata": {},
   "outputs": [],
   "source": [
    "from sklearn.ensemble import RandomForestClassifier\n",
    "from sklearn.model_selection import train_test_split\n",
    "from sklearn.metrics import accuracy_score"
   ]
  },
  {
   "cell_type": "code",
   "execution_count": 8,
   "metadata": {},
   "outputs": [
    {
     "name": "stdout",
     "output_type": "stream",
     "text": [
      "Test Accuracy: 99.90%\n"
     ]
    }
   ],
   "source": [
    "X_train, X_test, y_train, y_test = train_test_split(X, y, test_size=0.2, random_state=42)\n",
    "\n",
    "rf_classifier = RandomForestClassifier()\n",
    "rf_classifier.fit(X_train, y_train)\n",
    "y_pred = rf_classifier.predict(X_test)\n",
    "\n",
    "test_accuracy = accuracy_score(y_test, y_pred)\n",
    "print(\"Test Accuracy: {:.2f}%\".format(test_accuracy * 100))"
   ]
  },
  {
   "cell_type": "code",
   "execution_count": null,
   "metadata": {},
   "outputs": [],
   "source": []
  }
 ],
 "metadata": {
  "kernelspec": {
   "display_name": "Python 3",
   "language": "python",
   "name": "python3"
  },
  "language_info": {
   "codemirror_mode": {
    "name": "ipython",
    "version": 3
   },
   "file_extension": ".py",
   "mimetype": "text/x-python",
   "name": "python",
   "nbconvert_exporter": "python",
   "pygments_lexer": "ipython3",
   "version": "3.10.9"
  },
  "orig_nbformat": 4
 },
 "nbformat": 4,
 "nbformat_minor": 2
}
