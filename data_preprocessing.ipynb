{
 "cells": [
  {
   "cell_type": "code",
   "execution_count": 8,
   "metadata": {},
   "outputs": [],
   "source": [
    "import numpy as np\n",
    "import pandas as pd\n",
    "import matplotlib.pyplot as plt\n",
    "from tqdm.notebook import tqdm"
   ]
  },
  {
   "attachments": {},
   "cell_type": "markdown",
   "metadata": {},
   "source": [
    "# Data Processing"
   ]
  },
  {
   "cell_type": "code",
   "execution_count": 9,
   "metadata": {},
   "outputs": [],
   "source": [
    "columns = [\"timestamp\", \"activity\", \"heartrate\", ]\n",
    "columns += [\"hand-\" + str(i+1) for i in range(17)]\n",
    "columns += [\"chest-\" + str(i+1) for i in range(17)]\n",
    "columns += [\"ankle-\" + str(i+1) for i in range(17)]"
   ]
  },
  {
   "cell_type": "code",
   "execution_count": 16,
   "metadata": {},
   "outputs": [
    {
     "data": {
      "application/vnd.jupyter.widget-view+json": {
       "model_id": "cd62c8f5eba74f4da04fd37a12202adf",
       "version_major": 2,
       "version_minor": 0
      },
      "text/plain": [
       "  0%|          | 0/9 [00:00<?, ?it/s]"
      ]
     },
     "metadata": {},
     "output_type": "display_data"
    },
    {
     "name": "stdout",
     "output_type": "stream",
     "text": [
      "Data shape: (2872524, 54)\n"
     ]
    }
   ],
   "source": [
    "dataframes = []\n",
    "for subject in tqdm(range(101, 110)):\n",
    "    df = pd.read_table(f'./PAMAP2_Dataset/Protocol/subject{subject}.dat', sep='\\s+')\n",
    "    df.columns = columns\n",
    "    dataframes.append(df)\n",
    "\n",
    "data = pd.concat(dataframes, ignore_index=True)\n",
    "print(\"Data shape:\", data.shape)"
   ]
  },
  {
   "cell_type": "code",
   "execution_count": 17,
   "metadata": {},
   "outputs": [
    {
     "data": {
      "text/html": [
       "<div>\n",
       "<style scoped>\n",
       "    .dataframe tbody tr th:only-of-type {\n",
       "        vertical-align: middle;\n",
       "    }\n",
       "\n",
       "    .dataframe tbody tr th {\n",
       "        vertical-align: top;\n",
       "    }\n",
       "\n",
       "    .dataframe thead th {\n",
       "        text-align: right;\n",
       "    }\n",
       "</style>\n",
       "<table border=\"1\" class=\"dataframe\">\n",
       "  <thead>\n",
       "    <tr style=\"text-align: right;\">\n",
       "      <th></th>\n",
       "      <th>timestamp</th>\n",
       "      <th>activity</th>\n",
       "      <th>heartrate</th>\n",
       "      <th>hand-1</th>\n",
       "      <th>hand-2</th>\n",
       "      <th>hand-3</th>\n",
       "      <th>hand-4</th>\n",
       "      <th>hand-5</th>\n",
       "      <th>hand-6</th>\n",
       "      <th>hand-7</th>\n",
       "      <th>...</th>\n",
       "      <th>ankle-8</th>\n",
       "      <th>ankle-9</th>\n",
       "      <th>ankle-10</th>\n",
       "      <th>ankle-11</th>\n",
       "      <th>ankle-12</th>\n",
       "      <th>ankle-13</th>\n",
       "      <th>ankle-14</th>\n",
       "      <th>ankle-15</th>\n",
       "      <th>ankle-16</th>\n",
       "      <th>ankle-17</th>\n",
       "    </tr>\n",
       "  </thead>\n",
       "  <tbody>\n",
       "    <tr>\n",
       "      <th>0</th>\n",
       "      <td>8.39</td>\n",
       "      <td>0</td>\n",
       "      <td>NaN</td>\n",
       "      <td>30.0</td>\n",
       "      <td>2.18837</td>\n",
       "      <td>8.56560</td>\n",
       "      <td>3.66179</td>\n",
       "      <td>2.39494</td>\n",
       "      <td>8.55081</td>\n",
       "      <td>3.64207</td>\n",
       "      <td>...</td>\n",
       "      <td>-0.006577</td>\n",
       "      <td>-0.004638</td>\n",
       "      <td>0.000368</td>\n",
       "      <td>-59.8479</td>\n",
       "      <td>-38.8919</td>\n",
       "      <td>-58.5253</td>\n",
       "      <td>1.0</td>\n",
       "      <td>0.0</td>\n",
       "      <td>0.0</td>\n",
       "      <td>0.0</td>\n",
       "    </tr>\n",
       "    <tr>\n",
       "      <th>1</th>\n",
       "      <td>8.40</td>\n",
       "      <td>0</td>\n",
       "      <td>NaN</td>\n",
       "      <td>30.0</td>\n",
       "      <td>2.37357</td>\n",
       "      <td>8.60107</td>\n",
       "      <td>3.54898</td>\n",
       "      <td>2.30514</td>\n",
       "      <td>8.53644</td>\n",
       "      <td>3.73280</td>\n",
       "      <td>...</td>\n",
       "      <td>0.003014</td>\n",
       "      <td>0.000148</td>\n",
       "      <td>0.022495</td>\n",
       "      <td>-60.7361</td>\n",
       "      <td>-39.4138</td>\n",
       "      <td>-58.3999</td>\n",
       "      <td>1.0</td>\n",
       "      <td>0.0</td>\n",
       "      <td>0.0</td>\n",
       "      <td>0.0</td>\n",
       "    </tr>\n",
       "    <tr>\n",
       "      <th>2</th>\n",
       "      <td>8.41</td>\n",
       "      <td>0</td>\n",
       "      <td>NaN</td>\n",
       "      <td>30.0</td>\n",
       "      <td>2.07473</td>\n",
       "      <td>8.52853</td>\n",
       "      <td>3.66021</td>\n",
       "      <td>2.33528</td>\n",
       "      <td>8.53622</td>\n",
       "      <td>3.73277</td>\n",
       "      <td>...</td>\n",
       "      <td>0.003175</td>\n",
       "      <td>-0.020301</td>\n",
       "      <td>0.011275</td>\n",
       "      <td>-60.4091</td>\n",
       "      <td>-38.7635</td>\n",
       "      <td>-58.3956</td>\n",
       "      <td>1.0</td>\n",
       "      <td>0.0</td>\n",
       "      <td>0.0</td>\n",
       "      <td>0.0</td>\n",
       "    </tr>\n",
       "    <tr>\n",
       "      <th>3</th>\n",
       "      <td>8.42</td>\n",
       "      <td>0</td>\n",
       "      <td>NaN</td>\n",
       "      <td>30.0</td>\n",
       "      <td>2.22936</td>\n",
       "      <td>8.83122</td>\n",
       "      <td>3.70000</td>\n",
       "      <td>2.23055</td>\n",
       "      <td>8.59741</td>\n",
       "      <td>3.76295</td>\n",
       "      <td>...</td>\n",
       "      <td>0.012698</td>\n",
       "      <td>-0.014303</td>\n",
       "      <td>-0.002823</td>\n",
       "      <td>-61.5199</td>\n",
       "      <td>-39.3879</td>\n",
       "      <td>-58.2694</td>\n",
       "      <td>1.0</td>\n",
       "      <td>0.0</td>\n",
       "      <td>0.0</td>\n",
       "      <td>0.0</td>\n",
       "    </tr>\n",
       "    <tr>\n",
       "      <th>4</th>\n",
       "      <td>8.43</td>\n",
       "      <td>0</td>\n",
       "      <td>NaN</td>\n",
       "      <td>30.0</td>\n",
       "      <td>2.29959</td>\n",
       "      <td>8.82929</td>\n",
       "      <td>3.54710</td>\n",
       "      <td>2.26132</td>\n",
       "      <td>8.65762</td>\n",
       "      <td>3.77788</td>\n",
       "      <td>...</td>\n",
       "      <td>-0.006089</td>\n",
       "      <td>-0.016024</td>\n",
       "      <td>0.001050</td>\n",
       "      <td>-60.2954</td>\n",
       "      <td>-38.8778</td>\n",
       "      <td>-58.3977</td>\n",
       "      <td>1.0</td>\n",
       "      <td>0.0</td>\n",
       "      <td>0.0</td>\n",
       "      <td>0.0</td>\n",
       "    </tr>\n",
       "  </tbody>\n",
       "</table>\n",
       "<p>5 rows × 54 columns</p>\n",
       "</div>"
      ],
      "text/plain": [
       "   timestamp  activity  heartrate  hand-1   hand-2   hand-3   hand-4   hand-5  \\\n",
       "0       8.39         0        NaN    30.0  2.18837  8.56560  3.66179  2.39494   \n",
       "1       8.40         0        NaN    30.0  2.37357  8.60107  3.54898  2.30514   \n",
       "2       8.41         0        NaN    30.0  2.07473  8.52853  3.66021  2.33528   \n",
       "3       8.42         0        NaN    30.0  2.22936  8.83122  3.70000  2.23055   \n",
       "4       8.43         0        NaN    30.0  2.29959  8.82929  3.54710  2.26132   \n",
       "\n",
       "    hand-6   hand-7  ...   ankle-8   ankle-9  ankle-10  ankle-11  ankle-12  \\\n",
       "0  8.55081  3.64207  ... -0.006577 -0.004638  0.000368  -59.8479  -38.8919   \n",
       "1  8.53644  3.73280  ...  0.003014  0.000148  0.022495  -60.7361  -39.4138   \n",
       "2  8.53622  3.73277  ...  0.003175 -0.020301  0.011275  -60.4091  -38.7635   \n",
       "3  8.59741  3.76295  ...  0.012698 -0.014303 -0.002823  -61.5199  -39.3879   \n",
       "4  8.65762  3.77788  ... -0.006089 -0.016024  0.001050  -60.2954  -38.8778   \n",
       "\n",
       "   ankle-13  ankle-14  ankle-15  ankle-16  ankle-17  \n",
       "0  -58.5253       1.0       0.0       0.0       0.0  \n",
       "1  -58.3999       1.0       0.0       0.0       0.0  \n",
       "2  -58.3956       1.0       0.0       0.0       0.0  \n",
       "3  -58.2694       1.0       0.0       0.0       0.0  \n",
       "4  -58.3977       1.0       0.0       0.0       0.0  \n",
       "\n",
       "[5 rows x 54 columns]"
      ]
     },
     "execution_count": 17,
     "metadata": {},
     "output_type": "execute_result"
    }
   ],
   "source": [
    "data.head()"
   ]
  },
  {
   "attachments": {},
   "cell_type": "markdown",
   "metadata": {},
   "source": [
    "Here is the breakdown of each of the 17 parameters of the IMU data (hand, chest and ankle)\n",
    "+ 1 temperature (°C)\n",
    "+ 2-4 3D-acceleration data (ms-2),  scale: ±16g, resolution: 13-bit\n",
    "+ 5-7 3D-acceleration data (ms-2),  scale: ±6g, resolution: 13-bit*\n",
    "+ 8-10 3D-gyroscope data (rad/s)\n",
    "+ 11-13 3D-magnetometer data (μT)\n",
    "+ 14-17 orientation (invalid in this data collection)\n",
    "\n",
    "Out of these, temperature is unnecessary. The second accelerometer (5-7) data is imprecise, we use just the first one.\n",
    "Orientation (14-17) is invalid for this data. We remove this from our dataset. Finally, order is all that matters, timestep value is irrelevant. We drop that row too."
   ]
  },
  {
   "cell_type": "code",
   "execution_count": 18,
   "metadata": {},
   "outputs": [
    {
     "name": "stdout",
     "output_type": "stream",
     "text": [
      "[0, 3, 7, 8, 9, 16, 17, 18, 19, 20, 24, 25, 26, 33, 34, 35, 36, 37, 41, 42, 43, 50, 51, 52, 53]\n"
     ]
    }
   ],
   "source": [
    "removed_columns = [0]\n",
    "unnecessary_imu_columns = [1, 5, 6, 7, 14, 15, 16, 17]\n",
    "for i in range(3):\n",
    "    base = 2 + (17*i)\n",
    "    for j in unnecessary_imu_columns:\n",
    "        removed_columns.append(base + j)\n",
    "print(removed_columns)"
   ]
  },
  {
   "cell_type": "code",
   "execution_count": 20,
   "metadata": {},
   "outputs": [],
   "source": [
    "data.drop(data.columns[removed_columns], axis=1, inplace=True)"
   ]
  },
  {
   "cell_type": "code",
   "execution_count": 21,
   "metadata": {},
   "outputs": [
    {
     "data": {
      "text/html": [
       "<div>\n",
       "<style scoped>\n",
       "    .dataframe tbody tr th:only-of-type {\n",
       "        vertical-align: middle;\n",
       "    }\n",
       "\n",
       "    .dataframe tbody tr th {\n",
       "        vertical-align: top;\n",
       "    }\n",
       "\n",
       "    .dataframe thead th {\n",
       "        text-align: right;\n",
       "    }\n",
       "</style>\n",
       "<table border=\"1\" class=\"dataframe\">\n",
       "  <thead>\n",
       "    <tr style=\"text-align: right;\">\n",
       "      <th></th>\n",
       "      <th>activity</th>\n",
       "      <th>heartrate</th>\n",
       "      <th>hand-2</th>\n",
       "      <th>hand-3</th>\n",
       "      <th>hand-4</th>\n",
       "      <th>hand-8</th>\n",
       "      <th>hand-9</th>\n",
       "      <th>hand-10</th>\n",
       "      <th>hand-11</th>\n",
       "      <th>hand-12</th>\n",
       "      <th>...</th>\n",
       "      <th>chest-13</th>\n",
       "      <th>ankle-2</th>\n",
       "      <th>ankle-3</th>\n",
       "      <th>ankle-4</th>\n",
       "      <th>ankle-8</th>\n",
       "      <th>ankle-9</th>\n",
       "      <th>ankle-10</th>\n",
       "      <th>ankle-11</th>\n",
       "      <th>ankle-12</th>\n",
       "      <th>ankle-13</th>\n",
       "    </tr>\n",
       "  </thead>\n",
       "  <tbody>\n",
       "    <tr>\n",
       "      <th>0</th>\n",
       "      <td>0</td>\n",
       "      <td>NaN</td>\n",
       "      <td>2.18837</td>\n",
       "      <td>8.56560</td>\n",
       "      <td>3.66179</td>\n",
       "      <td>-0.024413</td>\n",
       "      <td>0.047759</td>\n",
       "      <td>0.006474</td>\n",
       "      <td>14.8991</td>\n",
       "      <td>-69.2224</td>\n",
       "      <td>...</td>\n",
       "      <td>43.1768</td>\n",
       "      <td>9.69370</td>\n",
       "      <td>-1.57902</td>\n",
       "      <td>-0.215687</td>\n",
       "      <td>-0.006577</td>\n",
       "      <td>-0.004638</td>\n",
       "      <td>0.000368</td>\n",
       "      <td>-59.8479</td>\n",
       "      <td>-38.8919</td>\n",
       "      <td>-58.5253</td>\n",
       "    </tr>\n",
       "    <tr>\n",
       "      <th>1</th>\n",
       "      <td>0</td>\n",
       "      <td>NaN</td>\n",
       "      <td>2.37357</td>\n",
       "      <td>8.60107</td>\n",
       "      <td>3.54898</td>\n",
       "      <td>-0.057976</td>\n",
       "      <td>0.032574</td>\n",
       "      <td>-0.006988</td>\n",
       "      <td>14.2420</td>\n",
       "      <td>-69.5197</td>\n",
       "      <td>...</td>\n",
       "      <td>43.7782</td>\n",
       "      <td>9.58944</td>\n",
       "      <td>-1.73276</td>\n",
       "      <td>0.092914</td>\n",
       "      <td>0.003014</td>\n",
       "      <td>0.000148</td>\n",
       "      <td>0.022495</td>\n",
       "      <td>-60.7361</td>\n",
       "      <td>-39.4138</td>\n",
       "      <td>-58.3999</td>\n",
       "    </tr>\n",
       "    <tr>\n",
       "      <th>2</th>\n",
       "      <td>0</td>\n",
       "      <td>NaN</td>\n",
       "      <td>2.07473</td>\n",
       "      <td>8.52853</td>\n",
       "      <td>3.66021</td>\n",
       "      <td>-0.002352</td>\n",
       "      <td>0.032810</td>\n",
       "      <td>-0.003747</td>\n",
       "      <td>14.8908</td>\n",
       "      <td>-69.5439</td>\n",
       "      <td>...</td>\n",
       "      <td>43.1670</td>\n",
       "      <td>9.58814</td>\n",
       "      <td>-1.77040</td>\n",
       "      <td>0.054545</td>\n",
       "      <td>0.003175</td>\n",
       "      <td>-0.020301</td>\n",
       "      <td>0.011275</td>\n",
       "      <td>-60.4091</td>\n",
       "      <td>-38.7635</td>\n",
       "      <td>-58.3956</td>\n",
       "    </tr>\n",
       "    <tr>\n",
       "      <th>3</th>\n",
       "      <td>0</td>\n",
       "      <td>NaN</td>\n",
       "      <td>2.22936</td>\n",
       "      <td>8.83122</td>\n",
       "      <td>3.70000</td>\n",
       "      <td>0.012269</td>\n",
       "      <td>0.018305</td>\n",
       "      <td>-0.053325</td>\n",
       "      <td>15.5612</td>\n",
       "      <td>-68.8196</td>\n",
       "      <td>...</td>\n",
       "      <td>43.6453</td>\n",
       "      <td>9.69771</td>\n",
       "      <td>-1.65625</td>\n",
       "      <td>-0.060809</td>\n",
       "      <td>0.012698</td>\n",
       "      <td>-0.014303</td>\n",
       "      <td>-0.002823</td>\n",
       "      <td>-61.5199</td>\n",
       "      <td>-39.3879</td>\n",
       "      <td>-58.2694</td>\n",
       "    </tr>\n",
       "    <tr>\n",
       "      <th>4</th>\n",
       "      <td>0</td>\n",
       "      <td>NaN</td>\n",
       "      <td>2.29959</td>\n",
       "      <td>8.82929</td>\n",
       "      <td>3.54710</td>\n",
       "      <td>0.003238</td>\n",
       "      <td>0.012260</td>\n",
       "      <td>-0.054474</td>\n",
       "      <td>15.4565</td>\n",
       "      <td>-68.8180</td>\n",
       "      <td>...</td>\n",
       "      <td>43.4065</td>\n",
       "      <td>9.69551</td>\n",
       "      <td>-1.65560</td>\n",
       "      <td>-0.138014</td>\n",
       "      <td>-0.006089</td>\n",
       "      <td>-0.016024</td>\n",
       "      <td>0.001050</td>\n",
       "      <td>-60.2954</td>\n",
       "      <td>-38.8778</td>\n",
       "      <td>-58.3977</td>\n",
       "    </tr>\n",
       "  </tbody>\n",
       "</table>\n",
       "<p>5 rows × 29 columns</p>\n",
       "</div>"
      ],
      "text/plain": [
       "   activity  heartrate   hand-2   hand-3   hand-4    hand-8    hand-9  \\\n",
       "0         0        NaN  2.18837  8.56560  3.66179 -0.024413  0.047759   \n",
       "1         0        NaN  2.37357  8.60107  3.54898 -0.057976  0.032574   \n",
       "2         0        NaN  2.07473  8.52853  3.66021 -0.002352  0.032810   \n",
       "3         0        NaN  2.22936  8.83122  3.70000  0.012269  0.018305   \n",
       "4         0        NaN  2.29959  8.82929  3.54710  0.003238  0.012260   \n",
       "\n",
       "    hand-10  hand-11  hand-12  ...  chest-13  ankle-2  ankle-3   ankle-4  \\\n",
       "0  0.006474  14.8991 -69.2224  ...   43.1768  9.69370 -1.57902 -0.215687   \n",
       "1 -0.006988  14.2420 -69.5197  ...   43.7782  9.58944 -1.73276  0.092914   \n",
       "2 -0.003747  14.8908 -69.5439  ...   43.1670  9.58814 -1.77040  0.054545   \n",
       "3 -0.053325  15.5612 -68.8196  ...   43.6453  9.69771 -1.65625 -0.060809   \n",
       "4 -0.054474  15.4565 -68.8180  ...   43.4065  9.69551 -1.65560 -0.138014   \n",
       "\n",
       "    ankle-8   ankle-9  ankle-10  ankle-11  ankle-12  ankle-13  \n",
       "0 -0.006577 -0.004638  0.000368  -59.8479  -38.8919  -58.5253  \n",
       "1  0.003014  0.000148  0.022495  -60.7361  -39.4138  -58.3999  \n",
       "2  0.003175 -0.020301  0.011275  -60.4091  -38.7635  -58.3956  \n",
       "3  0.012698 -0.014303 -0.002823  -61.5199  -39.3879  -58.2694  \n",
       "4 -0.006089 -0.016024  0.001050  -60.2954  -38.8778  -58.3977  \n",
       "\n",
       "[5 rows x 29 columns]"
      ]
     },
     "execution_count": 21,
     "metadata": {},
     "output_type": "execute_result"
    }
   ],
   "source": [
    "data.head()"
   ]
  },
  {
   "cell_type": "code",
   "execution_count": 22,
   "metadata": {},
   "outputs": [],
   "source": [
    "# Sensor polling rates are not the same. Interpolating NaN values.\n",
    "for key, value in data.items():\n",
    "    if value.isna().any():\n",
    "        nan_values = value.isna()\n",
    "        numeric_values = ~nan_values\n",
    "        data.loc[nan_values, key] = np.interp(np.flatnonzero(nan_values), np.flatnonzero(numeric_values), value[numeric_values])\n"
   ]
  },
  {
   "cell_type": "code",
   "execution_count": 23,
   "metadata": {},
   "outputs": [
    {
     "name": "stdout",
     "output_type": "stream",
     "text": [
      "(2872524, 28) (2872524,)\n"
     ]
    }
   ],
   "source": [
    "X = data.loc[:, data.columns != 'activity'].to_numpy()\n",
    "y = data['activity'].to_numpy()\n",
    "\n",
    "X_reduced = X[:,:10] # Only using the data from hand sensor\n",
    "print(X.shape, y.shape)"
   ]
  },
  {
   "attachments": {},
   "cell_type": "markdown",
   "metadata": {},
   "source": [
    "# Logistic Regression"
   ]
  },
  {
   "attachments": {},
   "cell_type": "markdown",
   "metadata": {},
   "source": [
    "For logistic regression, training mean is subtracted from the data and normalized by dividing training standard deviation. This is done for both training and test data."
   ]
  },
  {
   "cell_type": "code",
   "execution_count": 45,
   "metadata": {},
   "outputs": [],
   "source": [
    "from sklearn.linear_model import LogisticRegression"
   ]
  },
  {
   "cell_type": "code",
   "execution_count": 46,
   "metadata": {},
   "outputs": [],
   "source": [
    "training_mean = np.mean(X, axis=0)\n",
    "training_std = np.std(X, axis=0)\n",
    "X_norm = (X - training_mean) / training_std\n",
    "\n",
    "X_norm_reduced = X_norm[:,:10]"
   ]
  },
  {
   "cell_type": "code",
   "execution_count": null,
   "metadata": {},
   "outputs": [],
   "source": []
  },
  {
   "cell_type": "code",
   "execution_count": 24,
   "metadata": {},
   "outputs": [],
   "source": [
    "from sklearn.ensemble import RandomForestClassifier\n",
    "from sklearn.model_selection import train_test_split\n",
    "from sklearn.metrics import accuracy_score"
   ]
  },
  {
   "cell_type": "code",
   "execution_count": 25,
   "metadata": {},
   "outputs": [
    {
     "name": "stdout",
     "output_type": "stream",
     "text": [
      "Test Accuracy: 99.71%\n"
     ]
    }
   ],
   "source": [
    "X_train, X_test, y_train, y_test = train_test_split(X, y, test_size=0.2, random_state=42)\n",
    "\n",
    "rf_classifier = RandomForestClassifier()\n",
    "rf_classifier.fit(X_train, y_train)\n",
    "y_pred = rf_classifier.predict(X_test)\n",
    "\n",
    "test_accuracy = accuracy_score(y_test, y_pred)\n",
    "print(\"Test Accuracy: {:.2f}%\".format(test_accuracy * 100))"
   ]
  },
  {
   "cell_type": "code",
   "execution_count": null,
   "metadata": {},
   "outputs": [],
   "source": [
    "print(\"Hello world\")"
   ]
  },
  {
   "cell_type": "code",
   "execution_count": null,
   "metadata": {},
   "outputs": [],
   "source": []
  }
 ],
 "metadata": {
  "kernelspec": {
   "display_name": "smai",
   "language": "python",
   "name": "python3"
  },
  "language_info": {
   "codemirror_mode": {
    "name": "ipython",
    "version": 3
   },
   "file_extension": ".py",
   "mimetype": "text/x-python",
   "name": "python",
   "nbconvert_exporter": "python",
   "pygments_lexer": "ipython3",
   "version": "3.10.11"
  },
  "orig_nbformat": 4
 },
 "nbformat": 4,
 "nbformat_minor": 2
}
